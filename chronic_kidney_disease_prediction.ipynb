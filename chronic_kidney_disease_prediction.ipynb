{
  "nbformat": 4,
  "nbformat_minor": 0,
  "metadata": {
    "colab": {
      "provenance": [],
      "collapsed_sections": []
    },
    "kernelspec": {
      "name": "python3",
      "display_name": "Python 3"
    },
    "language_info": {
      "name": "python"
    }
  },
  "cells": [
    {
      "cell_type": "code",
      "execution_count": 1,
      "metadata": {
        "id": "yoIleHeI0y16",
        "colab": {
          "base_uri": "https://localhost:8080/"
        },
        "outputId": "348f1236-6199-4813-88b3-b0066daa32fb"
      },
      "outputs": [
        {
          "output_type": "stream",
          "name": "stdout",
          "text": [
            "Looking in indexes: https://pypi.org/simple, https://us-python.pkg.dev/colab-wheels/public/simple/\n",
            "Requirement already satisfied: pandas in /usr/local/lib/python3.7/dist-packages (1.3.5)\n",
            "Requirement already satisfied: python-dateutil>=2.7.3 in /usr/local/lib/python3.7/dist-packages (from pandas) (2.8.2)\n",
            "Requirement already satisfied: numpy>=1.17.3 in /usr/local/lib/python3.7/dist-packages (from pandas) (1.21.6)\n",
            "Requirement already satisfied: pytz>=2017.3 in /usr/local/lib/python3.7/dist-packages (from pandas) (2022.2.1)\n",
            "Requirement already satisfied: six>=1.5 in /usr/local/lib/python3.7/dist-packages (from python-dateutil>=2.7.3->pandas) (1.15.0)\n",
            "Looking in indexes: https://pypi.org/simple, https://us-python.pkg.dev/colab-wheels/public/simple/\n",
            "Requirement already satisfied: numpy in /usr/local/lib/python3.7/dist-packages (1.21.6)\n",
            "Looking in indexes: https://pypi.org/simple, https://us-python.pkg.dev/colab-wheels/public/simple/\n",
            "Requirement already satisfied: matplotlib in /usr/local/lib/python3.7/dist-packages (3.2.2)\n",
            "Requirement already satisfied: numpy>=1.11 in /usr/local/lib/python3.7/dist-packages (from matplotlib) (1.21.6)\n",
            "Requirement already satisfied: pyparsing!=2.0.4,!=2.1.2,!=2.1.6,>=2.0.1 in /usr/local/lib/python3.7/dist-packages (from matplotlib) (3.0.9)\n",
            "Requirement already satisfied: python-dateutil>=2.1 in /usr/local/lib/python3.7/dist-packages (from matplotlib) (2.8.2)\n",
            "Requirement already satisfied: kiwisolver>=1.0.1 in /usr/local/lib/python3.7/dist-packages (from matplotlib) (1.4.4)\n",
            "Requirement already satisfied: cycler>=0.10 in /usr/local/lib/python3.7/dist-packages (from matplotlib) (0.11.0)\n",
            "Requirement already satisfied: typing-extensions in /usr/local/lib/python3.7/dist-packages (from kiwisolver>=1.0.1->matplotlib) (4.1.1)\n",
            "Requirement already satisfied: six>=1.5 in /usr/local/lib/python3.7/dist-packages (from python-dateutil>=2.1->matplotlib) (1.15.0)\n",
            "Looking in indexes: https://pypi.org/simple, https://us-python.pkg.dev/colab-wheels/public/simple/\n",
            "Requirement already satisfied: seaborn in /usr/local/lib/python3.7/dist-packages (0.11.2)\n",
            "Requirement already satisfied: numpy>=1.15 in /usr/local/lib/python3.7/dist-packages (from seaborn) (1.21.6)\n",
            "Requirement already satisfied: matplotlib>=2.2 in /usr/local/lib/python3.7/dist-packages (from seaborn) (3.2.2)\n",
            "Requirement already satisfied: pandas>=0.23 in /usr/local/lib/python3.7/dist-packages (from seaborn) (1.3.5)\n",
            "Requirement already satisfied: scipy>=1.0 in /usr/local/lib/python3.7/dist-packages (from seaborn) (1.7.3)\n",
            "Requirement already satisfied: kiwisolver>=1.0.1 in /usr/local/lib/python3.7/dist-packages (from matplotlib>=2.2->seaborn) (1.4.4)\n",
            "Requirement already satisfied: cycler>=0.10 in /usr/local/lib/python3.7/dist-packages (from matplotlib>=2.2->seaborn) (0.11.0)\n",
            "Requirement already satisfied: pyparsing!=2.0.4,!=2.1.2,!=2.1.6,>=2.0.1 in /usr/local/lib/python3.7/dist-packages (from matplotlib>=2.2->seaborn) (3.0.9)\n",
            "Requirement already satisfied: python-dateutil>=2.1 in /usr/local/lib/python3.7/dist-packages (from matplotlib>=2.2->seaborn) (2.8.2)\n",
            "Requirement already satisfied: typing-extensions in /usr/local/lib/python3.7/dist-packages (from kiwisolver>=1.0.1->matplotlib>=2.2->seaborn) (4.1.1)\n",
            "Requirement already satisfied: pytz>=2017.3 in /usr/local/lib/python3.7/dist-packages (from pandas>=0.23->seaborn) (2022.2.1)\n",
            "Requirement already satisfied: six>=1.5 in /usr/local/lib/python3.7/dist-packages (from python-dateutil>=2.1->matplotlib>=2.2->seaborn) (1.15.0)\n",
            "Looking in indexes: https://pypi.org/simple, https://us-python.pkg.dev/colab-wheels/public/simple/\n",
            "Requirement already satisfied: missingno in /usr/local/lib/python3.7/dist-packages (0.5.1)\n",
            "Requirement already satisfied: seaborn in /usr/local/lib/python3.7/dist-packages (from missingno) (0.11.2)\n",
            "Requirement already satisfied: numpy in /usr/local/lib/python3.7/dist-packages (from missingno) (1.21.6)\n",
            "Requirement already satisfied: scipy in /usr/local/lib/python3.7/dist-packages (from missingno) (1.7.3)\n",
            "Requirement already satisfied: matplotlib in /usr/local/lib/python3.7/dist-packages (from missingno) (3.2.2)\n",
            "Requirement already satisfied: cycler>=0.10 in /usr/local/lib/python3.7/dist-packages (from matplotlib->missingno) (0.11.0)\n",
            "Requirement already satisfied: kiwisolver>=1.0.1 in /usr/local/lib/python3.7/dist-packages (from matplotlib->missingno) (1.4.4)\n",
            "Requirement already satisfied: pyparsing!=2.0.4,!=2.1.2,!=2.1.6,>=2.0.1 in /usr/local/lib/python3.7/dist-packages (from matplotlib->missingno) (3.0.9)\n",
            "Requirement already satisfied: python-dateutil>=2.1 in /usr/local/lib/python3.7/dist-packages (from matplotlib->missingno) (2.8.2)\n",
            "Requirement already satisfied: typing-extensions in /usr/local/lib/python3.7/dist-packages (from kiwisolver>=1.0.1->matplotlib->missingno) (4.1.1)\n",
            "Requirement already satisfied: six>=1.5 in /usr/local/lib/python3.7/dist-packages (from python-dateutil>=2.1->matplotlib->missingno) (1.15.0)\n",
            "Requirement already satisfied: pandas>=0.23 in /usr/local/lib/python3.7/dist-packages (from seaborn->missingno) (1.3.5)\n",
            "Requirement already satisfied: pytz>=2017.3 in /usr/local/lib/python3.7/dist-packages (from pandas>=0.23->seaborn->missingno) (2022.2.1)\n",
            "Looking in indexes: https://pypi.org/simple, https://us-python.pkg.dev/colab-wheels/public/simple/\n",
            "Collecting sklearn\n",
            "  Downloading sklearn-0.0.tar.gz (1.1 kB)\n",
            "Requirement already satisfied: scikit-learn in /usr/local/lib/python3.7/dist-packages (from sklearn) (1.0.2)\n",
            "Requirement already satisfied: scipy>=1.1.0 in /usr/local/lib/python3.7/dist-packages (from scikit-learn->sklearn) (1.7.3)\n",
            "Requirement already satisfied: numpy>=1.14.6 in /usr/local/lib/python3.7/dist-packages (from scikit-learn->sklearn) (1.21.6)\n",
            "Requirement already satisfied: threadpoolctl>=2.0.0 in /usr/local/lib/python3.7/dist-packages (from scikit-learn->sklearn) (3.1.0)\n",
            "Requirement already satisfied: joblib>=0.11 in /usr/local/lib/python3.7/dist-packages (from scikit-learn->sklearn) (1.1.0)\n",
            "Building wheels for collected packages: sklearn\n",
            "  Building wheel for sklearn (setup.py) ... \u001b[?25l\u001b[?25hdone\n",
            "  Created wheel for sklearn: filename=sklearn-0.0-py2.py3-none-any.whl size=1310 sha256=2cff3d6c4aa8294102500e8745cf2f9f884fcd32f628255a720b70d0aa3866a3\n",
            "  Stored in directory: /root/.cache/pip/wheels/46/ef/c3/157e41f5ee1372d1be90b09f74f82b10e391eaacca8f22d33e\n",
            "Successfully built sklearn\n",
            "Installing collected packages: sklearn\n",
            "Successfully installed sklearn-0.0\n",
            "Looking in indexes: https://pypi.org/simple, https://us-python.pkg.dev/colab-wheels/public/simple/\n",
            "\u001b[31mERROR: Could not find a version that satisfies the requirement pickle (from versions: none)\u001b[0m\n",
            "\u001b[31mERROR: No matching distribution found for pickle\u001b[0m\n"
          ]
        }
      ],
      "source": [
        "#Install all necessary modules\n",
        "!pip install pandas\n",
        "!pip install numpy\n",
        "!pip install matplotlib\n",
        "!pip install seaborn\n",
        "!pip install missingno\n",
        "!pip install sklearn\n",
        "!pip install pickle"
      ]
    },
    {
      "cell_type": "code",
      "source": [
        "#Import all necessary modules\n",
        "import pandas as pd\n",
        "import numpy as np\n",
        "from collections import Counter as C\n",
        "import matplotlib.pyplot as plt\n",
        "import seaborn as sns\n",
        "import missingno as msno\n",
        "from sklearn.metrics import accuracy_score,confusion_matrix\n",
        "from sklearn.model_selection import train_test_split\n",
        "from sklearn.preprocessing import LabelEncoder\n",
        "from sklearn.linear_model import LogisticRegression\n",
        "import pickle"
      ],
      "metadata": {
        "id": "wx-PElkmdLuS"
      },
      "execution_count": 2,
      "outputs": []
    },
    {
      "cell_type": "code",
      "source": [
        "#Read data from csv file\n",
        "data = pd.read_csv(\"chronickidneydisease.csv\")"
      ],
      "metadata": {
        "id": "a6t69rsieotT"
      },
      "execution_count": 4,
      "outputs": []
    },
    {
      "cell_type": "code",
      "source": [
        "#return the first five rows\n",
        "data.head()\n",
        "#return the last five rows\n",
        "data.tail()"
      ],
      "metadata": {
        "id": "KHZi-tdLfPYN",
        "colab": {
          "base_uri": "https://localhost:8080/",
          "height": 235
        },
        "outputId": "bfc36c2f-3dc8-4aaf-b1a3-d4f009bcf4d6"
      },
      "execution_count": 5,
      "outputs": [
        {
          "output_type": "execute_result",
          "data": {
            "text/plain": [
              "      id   age    bp     sg   al   su     rbc      pc         pcc          ba  \\\n",
              "395  395  55.0  80.0  1.020  0.0  0.0  normal  normal  notpresent  notpresent   \n",
              "396  396  42.0  70.0  1.025  0.0  0.0  normal  normal  notpresent  notpresent   \n",
              "397  397  12.0  80.0  1.020  0.0  0.0  normal  normal  notpresent  notpresent   \n",
              "398  398  17.0  60.0  1.025  0.0  0.0  normal  normal  notpresent  notpresent   \n",
              "399  399  58.0  80.0  1.025  0.0  0.0  normal  normal  notpresent  notpresent   \n",
              "\n",
              "     ...  pcv    wc   rc  htn  dm  cad appet  pe ane classification  \n",
              "395  ...   47  6700  4.9   no  no   no  good  no  no         notckd  \n",
              "396  ...   54  7800  6.2   no  no   no  good  no  no         notckd  \n",
              "397  ...   49  6600  5.4   no  no   no  good  no  no         notckd  \n",
              "398  ...   51  7200  5.9   no  no   no  good  no  no         notckd  \n",
              "399  ...   53  6800  6.1   no  no   no  good  no  no         notckd  \n",
              "\n",
              "[5 rows x 26 columns]"
            ],
            "text/html": [
              "\n",
              "  <div id=\"df-6f156c54-7ba9-4fb6-8271-f9effd5e6283\">\n",
              "    <div class=\"colab-df-container\">\n",
              "      <div>\n",
              "<style scoped>\n",
              "    .dataframe tbody tr th:only-of-type {\n",
              "        vertical-align: middle;\n",
              "    }\n",
              "\n",
              "    .dataframe tbody tr th {\n",
              "        vertical-align: top;\n",
              "    }\n",
              "\n",
              "    .dataframe thead th {\n",
              "        text-align: right;\n",
              "    }\n",
              "</style>\n",
              "<table border=\"1\" class=\"dataframe\">\n",
              "  <thead>\n",
              "    <tr style=\"text-align: right;\">\n",
              "      <th></th>\n",
              "      <th>id</th>\n",
              "      <th>age</th>\n",
              "      <th>bp</th>\n",
              "      <th>sg</th>\n",
              "      <th>al</th>\n",
              "      <th>su</th>\n",
              "      <th>rbc</th>\n",
              "      <th>pc</th>\n",
              "      <th>pcc</th>\n",
              "      <th>ba</th>\n",
              "      <th>...</th>\n",
              "      <th>pcv</th>\n",
              "      <th>wc</th>\n",
              "      <th>rc</th>\n",
              "      <th>htn</th>\n",
              "      <th>dm</th>\n",
              "      <th>cad</th>\n",
              "      <th>appet</th>\n",
              "      <th>pe</th>\n",
              "      <th>ane</th>\n",
              "      <th>classification</th>\n",
              "    </tr>\n",
              "  </thead>\n",
              "  <tbody>\n",
              "    <tr>\n",
              "      <th>395</th>\n",
              "      <td>395</td>\n",
              "      <td>55.0</td>\n",
              "      <td>80.0</td>\n",
              "      <td>1.020</td>\n",
              "      <td>0.0</td>\n",
              "      <td>0.0</td>\n",
              "      <td>normal</td>\n",
              "      <td>normal</td>\n",
              "      <td>notpresent</td>\n",
              "      <td>notpresent</td>\n",
              "      <td>...</td>\n",
              "      <td>47</td>\n",
              "      <td>6700</td>\n",
              "      <td>4.9</td>\n",
              "      <td>no</td>\n",
              "      <td>no</td>\n",
              "      <td>no</td>\n",
              "      <td>good</td>\n",
              "      <td>no</td>\n",
              "      <td>no</td>\n",
              "      <td>notckd</td>\n",
              "    </tr>\n",
              "    <tr>\n",
              "      <th>396</th>\n",
              "      <td>396</td>\n",
              "      <td>42.0</td>\n",
              "      <td>70.0</td>\n",
              "      <td>1.025</td>\n",
              "      <td>0.0</td>\n",
              "      <td>0.0</td>\n",
              "      <td>normal</td>\n",
              "      <td>normal</td>\n",
              "      <td>notpresent</td>\n",
              "      <td>notpresent</td>\n",
              "      <td>...</td>\n",
              "      <td>54</td>\n",
              "      <td>7800</td>\n",
              "      <td>6.2</td>\n",
              "      <td>no</td>\n",
              "      <td>no</td>\n",
              "      <td>no</td>\n",
              "      <td>good</td>\n",
              "      <td>no</td>\n",
              "      <td>no</td>\n",
              "      <td>notckd</td>\n",
              "    </tr>\n",
              "    <tr>\n",
              "      <th>397</th>\n",
              "      <td>397</td>\n",
              "      <td>12.0</td>\n",
              "      <td>80.0</td>\n",
              "      <td>1.020</td>\n",
              "      <td>0.0</td>\n",
              "      <td>0.0</td>\n",
              "      <td>normal</td>\n",
              "      <td>normal</td>\n",
              "      <td>notpresent</td>\n",
              "      <td>notpresent</td>\n",
              "      <td>...</td>\n",
              "      <td>49</td>\n",
              "      <td>6600</td>\n",
              "      <td>5.4</td>\n",
              "      <td>no</td>\n",
              "      <td>no</td>\n",
              "      <td>no</td>\n",
              "      <td>good</td>\n",
              "      <td>no</td>\n",
              "      <td>no</td>\n",
              "      <td>notckd</td>\n",
              "    </tr>\n",
              "    <tr>\n",
              "      <th>398</th>\n",
              "      <td>398</td>\n",
              "      <td>17.0</td>\n",
              "      <td>60.0</td>\n",
              "      <td>1.025</td>\n",
              "      <td>0.0</td>\n",
              "      <td>0.0</td>\n",
              "      <td>normal</td>\n",
              "      <td>normal</td>\n",
              "      <td>notpresent</td>\n",
              "      <td>notpresent</td>\n",
              "      <td>...</td>\n",
              "      <td>51</td>\n",
              "      <td>7200</td>\n",
              "      <td>5.9</td>\n",
              "      <td>no</td>\n",
              "      <td>no</td>\n",
              "      <td>no</td>\n",
              "      <td>good</td>\n",
              "      <td>no</td>\n",
              "      <td>no</td>\n",
              "      <td>notckd</td>\n",
              "    </tr>\n",
              "    <tr>\n",
              "      <th>399</th>\n",
              "      <td>399</td>\n",
              "      <td>58.0</td>\n",
              "      <td>80.0</td>\n",
              "      <td>1.025</td>\n",
              "      <td>0.0</td>\n",
              "      <td>0.0</td>\n",
              "      <td>normal</td>\n",
              "      <td>normal</td>\n",
              "      <td>notpresent</td>\n",
              "      <td>notpresent</td>\n",
              "      <td>...</td>\n",
              "      <td>53</td>\n",
              "      <td>6800</td>\n",
              "      <td>6.1</td>\n",
              "      <td>no</td>\n",
              "      <td>no</td>\n",
              "      <td>no</td>\n",
              "      <td>good</td>\n",
              "      <td>no</td>\n",
              "      <td>no</td>\n",
              "      <td>notckd</td>\n",
              "    </tr>\n",
              "  </tbody>\n",
              "</table>\n",
              "<p>5 rows × 26 columns</p>\n",
              "</div>\n",
              "      <button class=\"colab-df-convert\" onclick=\"convertToInteractive('df-6f156c54-7ba9-4fb6-8271-f9effd5e6283')\"\n",
              "              title=\"Convert this dataframe to an interactive table.\"\n",
              "              style=\"display:none;\">\n",
              "        \n",
              "  <svg xmlns=\"http://www.w3.org/2000/svg\" height=\"24px\"viewBox=\"0 0 24 24\"\n",
              "       width=\"24px\">\n",
              "    <path d=\"M0 0h24v24H0V0z\" fill=\"none\"/>\n",
              "    <path d=\"M18.56 5.44l.94 2.06.94-2.06 2.06-.94-2.06-.94-.94-2.06-.94 2.06-2.06.94zm-11 1L8.5 8.5l.94-2.06 2.06-.94-2.06-.94L8.5 2.5l-.94 2.06-2.06.94zm10 10l.94 2.06.94-2.06 2.06-.94-2.06-.94-.94-2.06-.94 2.06-2.06.94z\"/><path d=\"M17.41 7.96l-1.37-1.37c-.4-.4-.92-.59-1.43-.59-.52 0-1.04.2-1.43.59L10.3 9.45l-7.72 7.72c-.78.78-.78 2.05 0 2.83L4 21.41c.39.39.9.59 1.41.59.51 0 1.02-.2 1.41-.59l7.78-7.78 2.81-2.81c.8-.78.8-2.07 0-2.86zM5.41 20L4 18.59l7.72-7.72 1.47 1.35L5.41 20z\"/>\n",
              "  </svg>\n",
              "      </button>\n",
              "      \n",
              "  <style>\n",
              "    .colab-df-container {\n",
              "      display:flex;\n",
              "      flex-wrap:wrap;\n",
              "      gap: 12px;\n",
              "    }\n",
              "\n",
              "    .colab-df-convert {\n",
              "      background-color: #E8F0FE;\n",
              "      border: none;\n",
              "      border-radius: 50%;\n",
              "      cursor: pointer;\n",
              "      display: none;\n",
              "      fill: #1967D2;\n",
              "      height: 32px;\n",
              "      padding: 0 0 0 0;\n",
              "      width: 32px;\n",
              "    }\n",
              "\n",
              "    .colab-df-convert:hover {\n",
              "      background-color: #E2EBFA;\n",
              "      box-shadow: 0px 1px 2px rgba(60, 64, 67, 0.3), 0px 1px 3px 1px rgba(60, 64, 67, 0.15);\n",
              "      fill: #174EA6;\n",
              "    }\n",
              "\n",
              "    [theme=dark] .colab-df-convert {\n",
              "      background-color: #3B4455;\n",
              "      fill: #D2E3FC;\n",
              "    }\n",
              "\n",
              "    [theme=dark] .colab-df-convert:hover {\n",
              "      background-color: #434B5C;\n",
              "      box-shadow: 0px 1px 3px 1px rgba(0, 0, 0, 0.15);\n",
              "      filter: drop-shadow(0px 1px 2px rgba(0, 0, 0, 0.3));\n",
              "      fill: #FFFFFF;\n",
              "    }\n",
              "  </style>\n",
              "\n",
              "      <script>\n",
              "        const buttonEl =\n",
              "          document.querySelector('#df-6f156c54-7ba9-4fb6-8271-f9effd5e6283 button.colab-df-convert');\n",
              "        buttonEl.style.display =\n",
              "          google.colab.kernel.accessAllowed ? 'block' : 'none';\n",
              "\n",
              "        async function convertToInteractive(key) {\n",
              "          const element = document.querySelector('#df-6f156c54-7ba9-4fb6-8271-f9effd5e6283');\n",
              "          const dataTable =\n",
              "            await google.colab.kernel.invokeFunction('convertToInteractive',\n",
              "                                                     [key], {});\n",
              "          if (!dataTable) return;\n",
              "\n",
              "          const docLinkHtml = 'Like what you see? Visit the ' +\n",
              "            '<a target=\"_blank\" href=https://colab.research.google.com/notebooks/data_table.ipynb>data table notebook</a>'\n",
              "            + ' to learn more about interactive tables.';\n",
              "          element.innerHTML = '';\n",
              "          dataTable['output_type'] = 'display_data';\n",
              "          await google.colab.output.renderOutput(dataTable, element);\n",
              "          const docLink = document.createElement('div');\n",
              "          docLink.innerHTML = docLinkHtml;\n",
              "          element.appendChild(docLink);\n",
              "        }\n",
              "      </script>\n",
              "    </div>\n",
              "  </div>\n",
              "  "
            ]
          },
          "metadata": {},
          "execution_count": 5
        }
      ]
    },
    {
      "cell_type": "code",
      "source": [
        "#drop/remove the id column which is unnecessary for training/prediction\n",
        "data.drop([\"id\"],axis=1,inplace=True)"
      ],
      "metadata": {
        "id": "0UbASivLfmol"
      },
      "execution_count": 6,
      "outputs": []
    },
    {
      "cell_type": "code",
      "source": [
        "#return all the current columns in the dataframe\n",
        "data.columns"
      ],
      "metadata": {
        "id": "tu_SXsxHf-4L",
        "colab": {
          "base_uri": "https://localhost:8080/"
        },
        "outputId": "c750eb9e-149b-47d4-8af0-dd6f8040abdf"
      },
      "execution_count": 7,
      "outputs": [
        {
          "output_type": "execute_result",
          "data": {
            "text/plain": [
              "Index(['age', 'bp', 'sg', 'al', 'su', 'rbc', 'pc', 'pcc', 'ba', 'bgr', 'bu',\n",
              "       'sc', 'sod', 'pot', 'hemo', 'pcv', 'wc', 'rc', 'htn', 'dm', 'cad',\n",
              "       'appet', 'pe', 'ane', 'classification'],\n",
              "      dtype='object')"
            ]
          },
          "metadata": {},
          "execution_count": 7
        }
      ]
    },
    {
      "cell_type": "code",
      "source": [
        "#rename all the column names for easy understanding\n",
        "data.columns = [\n",
        "    \"age\",\"blood_pressure\",\"specific_gravity\",\"albumin\",\"sugar\",\"red_blood_cells\",\"pus_cell\",\"pus_cell_clumps\",\"bacteria\",\"blood_glucose_random\",\"blood_urea\",\"serum_creatinine\",\"sodium\",\"potassium\",\"hemoglobin\",\"packed_cell_volume\",\"wbc_count\",\"rbc_count\",\"hypertension\",\"diabetesmellitus\",\"coronary_artery_disease\",\"appetite\",\"pedal_edema\",\"anemia\",\"class\"\n",
        "]\n",
        "data.columns"
      ],
      "metadata": {
        "id": "3GvpS2nghaEb",
        "colab": {
          "base_uri": "https://localhost:8080/"
        },
        "outputId": "5d9a6f35-b88e-4f41-8279-4f32a64c46c4"
      },
      "execution_count": 8,
      "outputs": [
        {
          "output_type": "execute_result",
          "data": {
            "text/plain": [
              "Index(['age', 'blood_pressure', 'specific_gravity', 'albumin', 'sugar',\n",
              "       'red_blood_cells', 'pus_cell', 'pus_cell_clumps', 'bacteria',\n",
              "       'blood_glucose_random', 'blood_urea', 'serum_creatinine', 'sodium',\n",
              "       'potassium', 'hemoglobin', 'packed_cell_volume', 'wbc_count',\n",
              "       'rbc_count', 'hypertension', 'diabetesmellitus',\n",
              "       'coronary_artery_disease', 'appetite', 'pedal_edema', 'anemia',\n",
              "       'class'],\n",
              "      dtype='object')"
            ]
          },
          "metadata": {},
          "execution_count": 8
        }
      ]
    },
    {
      "cell_type": "code",
      "source": [
        "#returns the information(col name,not null count,data type) of all columns\n",
        "data.info()"
      ],
      "metadata": {
        "id": "fgULH7IUipti",
        "colab": {
          "base_uri": "https://localhost:8080/"
        },
        "outputId": "8a340b90-513c-49da-868b-641e9cd62e59"
      },
      "execution_count": 9,
      "outputs": [
        {
          "output_type": "stream",
          "name": "stdout",
          "text": [
            "<class 'pandas.core.frame.DataFrame'>\n",
            "RangeIndex: 400 entries, 0 to 399\n",
            "Data columns (total 25 columns):\n",
            " #   Column                   Non-Null Count  Dtype  \n",
            "---  ------                   --------------  -----  \n",
            " 0   age                      391 non-null    float64\n",
            " 1   blood_pressure           388 non-null    float64\n",
            " 2   specific_gravity         353 non-null    float64\n",
            " 3   albumin                  354 non-null    float64\n",
            " 4   sugar                    351 non-null    float64\n",
            " 5   red_blood_cells          248 non-null    object \n",
            " 6   pus_cell                 335 non-null    object \n",
            " 7   pus_cell_clumps          396 non-null    object \n",
            " 8   bacteria                 396 non-null    object \n",
            " 9   blood_glucose_random     356 non-null    float64\n",
            " 10  blood_urea               381 non-null    float64\n",
            " 11  serum_creatinine         383 non-null    float64\n",
            " 12  sodium                   313 non-null    float64\n",
            " 13  potassium                312 non-null    float64\n",
            " 14  hemoglobin               348 non-null    float64\n",
            " 15  packed_cell_volume       330 non-null    object \n",
            " 16  wbc_count                295 non-null    object \n",
            " 17  rbc_count                270 non-null    object \n",
            " 18  hypertension             398 non-null    object \n",
            " 19  diabetesmellitus         398 non-null    object \n",
            " 20  coronary_artery_disease  398 non-null    object \n",
            " 21  appetite                 399 non-null    object \n",
            " 22  pedal_edema              399 non-null    object \n",
            " 23  anemia                   399 non-null    object \n",
            " 24  class                    400 non-null    object \n",
            "dtypes: float64(11), object(14)\n",
            "memory usage: 78.2+ KB\n"
          ]
        }
      ]
    },
    {
      "cell_type": "code",
      "source": [
        "#returns the unique values present in the 'class' column\n",
        "data['class'].unique()"
      ],
      "metadata": {
        "id": "Z_eWlqDAjiTs",
        "colab": {
          "base_uri": "https://localhost:8080/"
        },
        "outputId": "d48298be-225a-4b46-dba3-e6fc2c1e8dcd"
      },
      "execution_count": 10,
      "outputs": [
        {
          "output_type": "execute_result",
          "data": {
            "text/plain": [
              "array(['ckd', 'ckd\\t', 'notckd'], dtype=object)"
            ]
          },
          "metadata": {},
          "execution_count": 10
        }
      ]
    },
    {
      "cell_type": "code",
      "source": [
        "#remove/replace mismatched column label\n",
        "data['class'] = data['class'].replace(\"ckd\\t\",\"ckd\")\n",
        "data['class'].unique()"
      ],
      "metadata": {
        "id": "GxS1j8Cij0en",
        "colab": {
          "base_uri": "https://localhost:8080/"
        },
        "outputId": "8400fad1-cb4e-4dcd-99eb-a11a76a3c35c"
      },
      "execution_count": 11,
      "outputs": [
        {
          "output_type": "execute_result",
          "data": {
            "text/plain": [
              "array(['ckd', 'notckd'], dtype=object)"
            ]
          },
          "metadata": {},
          "execution_count": 11
        }
      ]
    },
    {
      "cell_type": "code",
      "source": [
        "#get all categorical columns\n",
        "cat_cols = set(data.dtypes[data.dtypes=='O'].index.values)\n",
        "print(cat_cols)"
      ],
      "metadata": {
        "id": "Ikjx-a-JkEGR",
        "colab": {
          "base_uri": "https://localhost:8080/"
        },
        "outputId": "9e555be1-4e93-422c-be5f-954e25b7e184"
      },
      "execution_count": 12,
      "outputs": [
        {
          "output_type": "stream",
          "name": "stdout",
          "text": [
            "{'bacteria', 'red_blood_cells', 'rbc_count', 'coronary_artery_disease', 'diabetesmellitus', 'hypertension', 'pedal_edema', 'class', 'pus_cell', 'wbc_count', 'appetite', 'pus_cell_clumps', 'packed_cell_volume', 'anemia'}\n"
          ]
        }
      ]
    },
    {
      "cell_type": "code",
      "source": [
        "#get number of rows of each category of all categorical columns\n",
        "for col in cat_cols:\n",
        "  print(\"Columns : \",col)\n",
        "  print(C(data[col]))\n",
        "  print('*'*10+'\\n')"
      ],
      "metadata": {
        "id": "dokx-1wRk_cA",
        "colab": {
          "base_uri": "https://localhost:8080/"
        },
        "outputId": "60f22e77-c65f-4427-99ad-f2c80bf62a72"
      },
      "execution_count": 13,
      "outputs": [
        {
          "output_type": "stream",
          "name": "stdout",
          "text": [
            "Columns :  bacteria\n",
            "Counter({'notpresent': 374, 'present': 22, nan: 4})\n",
            "**********\n",
            "\n",
            "Columns :  red_blood_cells\n",
            "Counter({'normal': 201, nan: 152, 'abnormal': 47})\n",
            "**********\n",
            "\n",
            "Columns :  rbc_count\n",
            "Counter({nan: 130, '5.2': 18, '4.5': 16, '4.9': 14, '4.7': 11, '3.9': 10, '4.8': 10, '4.6': 9, '3.4': 9, '3.7': 8, '5.0': 8, '6.1': 8, '5.5': 8, '5.9': 8, '3.8': 7, '5.4': 7, '5.8': 7, '5.3': 7, '4.3': 6, '4.2': 6, '5.6': 6, '4.4': 5, '3.2': 5, '4.1': 5, '6.2': 5, '5.1': 5, '6.4': 5, '5.7': 5, '6.5': 5, '3.6': 4, '6.0': 4, '6.3': 4, '4.0': 3, '4': 3, '3.5': 3, '3.3': 3, '5': 2, '2.6': 2, '2.8': 2, '2.5': 2, '3.1': 2, '2.1': 2, '2.9': 2, '2.7': 2, '3.0': 2, '2.3': 1, '8.0': 1, '3': 1, '2.4': 1, '\\t?': 1})\n",
            "**********\n",
            "\n",
            "Columns :  coronary_artery_disease\n",
            "Counter({'no': 362, 'yes': 34, '\\tno': 2, nan: 2})\n",
            "**********\n",
            "\n",
            "Columns :  diabetesmellitus\n",
            "Counter({'no': 258, 'yes': 134, '\\tno': 3, '\\tyes': 2, nan: 2, ' yes': 1})\n",
            "**********\n",
            "\n",
            "Columns :  hypertension\n",
            "Counter({'no': 251, 'yes': 147, nan: 2})\n",
            "**********\n",
            "\n",
            "Columns :  pedal_edema\n",
            "Counter({'no': 323, 'yes': 76, nan: 1})\n",
            "**********\n",
            "\n",
            "Columns :  class\n",
            "Counter({'ckd': 250, 'notckd': 150})\n",
            "**********\n",
            "\n",
            "Columns :  pus_cell\n",
            "Counter({'normal': 259, 'abnormal': 76, nan: 65})\n",
            "**********\n",
            "\n",
            "Columns :  wbc_count\n",
            "Counter({nan: 105, '9800': 11, '6700': 10, '9600': 9, '9200': 9, '7200': 9, '6900': 8, '11000': 8, '5800': 8, '7800': 7, '9100': 7, '9400': 7, '7000': 7, '4300': 6, '6300': 6, '10700': 6, '10500': 6, '7500': 5, '8300': 5, '7900': 5, '8600': 5, '5600': 5, '10200': 5, '5000': 5, '8100': 5, '9500': 5, '6000': 4, '6200': 4, '10300': 4, '7700': 4, '5500': 4, '10400': 4, '6800': 4, '6500': 4, '4700': 4, '7300': 3, '4500': 3, '8400': 3, '6400': 3, '4200': 3, '7400': 3, '8000': 3, '5400': 3, '3800': 2, '11400': 2, '5300': 2, '8500': 2, '14600': 2, '7100': 2, '13200': 2, '9000': 2, '8200': 2, '15200': 2, '12400': 2, '12800': 2, '8800': 2, '5700': 2, '9300': 2, '6600': 2, '12100': 1, '12200': 1, '18900': 1, '21600': 1, '11300': 1, '\\t6200': 1, '11800': 1, '12500': 1, '11900': 1, '12700': 1, '13600': 1, '14900': 1, '16300': 1, '\\t8400': 1, '10900': 1, '2200': 1, '11200': 1, '19100': 1, '\\t?': 1, '12300': 1, '16700': 1, '2600': 1, '26400': 1, '4900': 1, '12000': 1, '15700': 1, '4100': 1, '11500': 1, '10800': 1, '9900': 1, '5200': 1, '5900': 1, '9700': 1, '5100': 1})\n",
            "**********\n",
            "\n",
            "Columns :  appetite\n",
            "Counter({'good': 317, 'poor': 82, nan: 1})\n",
            "**********\n",
            "\n",
            "Columns :  pus_cell_clumps\n",
            "Counter({'notpresent': 354, 'present': 42, nan: 4})\n",
            "**********\n",
            "\n",
            "Columns :  packed_cell_volume\n",
            "Counter({nan: 70, '52': 21, '41': 21, '44': 19, '48': 19, '40': 16, '43': 14, '45': 13, '42': 13, '32': 12, '36': 12, '33': 12, '28': 12, '50': 12, '37': 11, '34': 11, '35': 9, '29': 9, '30': 9, '46': 9, '31': 8, '39': 7, '24': 7, '26': 6, '38': 5, '47': 4, '49': 4, '53': 4, '51': 4, '54': 4, '27': 3, '22': 3, '25': 3, '23': 2, '19': 2, '16': 1, '\\t?': 1, '14': 1, '18': 1, '17': 1, '15': 1, '21': 1, '20': 1, '\\t43': 1, '9': 1})\n",
            "**********\n",
            "\n",
            "Columns :  anemia\n",
            "Counter({'no': 339, 'yes': 60, nan: 1})\n",
            "**********\n",
            "\n"
          ]
        }
      ]
    },
    {
      "cell_type": "code",
      "source": [
        "#remove non continuous columns from categorical columns list\n",
        "cat_cols.remove(\"rbc_count\")\n",
        "cat_cols.remove(\"wbc_count\")\n",
        "cat_cols.remove(\"packed_cell_volume\")\n",
        "print(cat_cols)"
      ],
      "metadata": {
        "id": "GEz_yUpzlyA3",
        "colab": {
          "base_uri": "https://localhost:8080/"
        },
        "outputId": "38b3d237-c3e6-4e15-8180-2ad96ccebf45"
      },
      "execution_count": 14,
      "outputs": [
        {
          "output_type": "stream",
          "name": "stdout",
          "text": [
            "{'bacteria', 'red_blood_cells', 'coronary_artery_disease', 'diabetesmellitus', 'hypertension', 'pedal_edema', 'class', 'pus_cell', 'appetite', 'pus_cell_clumps', 'anemia'}\n"
          ]
        }
      ]
    },
    {
      "cell_type": "code",
      "source": [
        "#get all continuous columns\n",
        "cont_cols = set(data.dtypes[data.dtypes!='O'].index.values)\n",
        "print(cont_cols)"
      ],
      "metadata": {
        "id": "ol1dimSgl9fF",
        "colab": {
          "base_uri": "https://localhost:8080/"
        },
        "outputId": "9c2136bd-0dba-4826-b8d3-6358e3c371a2"
      },
      "execution_count": 15,
      "outputs": [
        {
          "output_type": "stream",
          "name": "stdout",
          "text": [
            "{'blood_pressure', 'sugar', 'blood_glucose_random', 'hemoglobin', 'potassium', 'age', 'specific_gravity', 'sodium', 'albumin', 'blood_urea', 'serum_creatinine'}\n"
          ]
        }
      ]
    },
    {
      "cell_type": "code",
      "source": [
        "#get number of rows of each value of all continuous columns\n",
        "for col in cont_cols:\n",
        "  print(\"Columns : \",col)\n",
        "  print(C(data[col]))\n",
        "  print('*'*10+'\\n')"
      ],
      "metadata": {
        "id": "XEMG2hsYmbTA",
        "colab": {
          "base_uri": "https://localhost:8080/"
        },
        "outputId": "762f1ee1-e0d1-4f32-c826-7078c4a6d3a3"
      },
      "execution_count": 16,
      "outputs": [
        {
          "output_type": "stream",
          "name": "stdout",
          "text": [
            "Columns :  blood_pressure\n",
            "Counter({80.0: 116, 70.0: 112, 60.0: 71, 90.0: 53, 100.0: 25, 50.0: 5, 110.0: 3, nan: 1, nan: 1, 140.0: 1, 180.0: 1, nan: 1, nan: 1, nan: 1, nan: 1, nan: 1, nan: 1, nan: 1, 120.0: 1, nan: 1, nan: 1, nan: 1})\n",
            "**********\n",
            "\n",
            "Columns :  sugar\n",
            "Counter({0.0: 290, 2.0: 18, 3.0: 14, 4.0: 13, 1.0: 13, 5.0: 3, nan: 1, nan: 1, nan: 1, nan: 1, nan: 1, nan: 1, nan: 1, nan: 1, nan: 1, nan: 1, nan: 1, nan: 1, nan: 1, nan: 1, nan: 1, nan: 1, nan: 1, nan: 1, nan: 1, nan: 1, nan: 1, nan: 1, nan: 1, nan: 1, nan: 1, nan: 1, nan: 1, nan: 1, nan: 1, nan: 1, nan: 1, nan: 1, nan: 1, nan: 1, nan: 1, nan: 1, nan: 1, nan: 1, nan: 1, nan: 1, nan: 1, nan: 1, nan: 1, nan: 1, nan: 1, nan: 1, nan: 1, nan: 1, nan: 1})\n",
            "**********\n",
            "\n",
            "Columns :  blood_glucose_random\n",
            "Counter({99.0: 10, 100.0: 9, 93.0: 9, 107.0: 8, 117.0: 6, 140.0: 6, 92.0: 6, 109.0: 6, 131.0: 6, 130.0: 6, 70.0: 5, 114.0: 5, 95.0: 5, 123.0: 5, 124.0: 5, 102.0: 5, 132.0: 5, 104.0: 5, 125.0: 5, 122.0: 5, 121.0: 4, 106.0: 4, 76.0: 4, 91.0: 4, 129.0: 4, 133.0: 4, 94.0: 4, 88.0: 4, 118.0: 4, 139.0: 4, 111.0: 4, 113.0: 4, 120.0: 4, 119.0: 4, 74.0: 3, 108.0: 3, 171.0: 3, 137.0: 3, 79.0: 3, 150.0: 3, 112.0: 3, 127.0: 3, 219.0: 3, 172.0: 3, 89.0: 3, 128.0: 3, 214.0: 3, 105.0: 3, 78.0: 3, 103.0: 3, 82.0: 3, 97.0: 3, 81.0: 3, 138.0: 2, 490.0: 2, 208.0: 2, 98.0: 2, 204.0: 2, 207.0: 2, 144.0: 2, 253.0: 2, 141.0: 2, 86.0: 2, 360.0: 2, 163.0: 2, 158.0: 2, 165.0: 2, 169.0: 2, 210.0: 2, 101.0: 2, 153.0: 2, 213.0: 2, 424.0: 2, 303.0: 2, 192.0: 2, 80.0: 2, 110.0: 2, 96.0: 2, 85.0: 2, 83.0: 2, 75.0: 2, nan: 1, 423.0: 1, 410.0: 1, 380.0: 1, 157.0: 1, 263.0: 1, 173.0: 1, nan: 1, nan: 1, nan: 1, 156.0: 1, 264.0: 1, nan: 1, 159.0: 1, 270.0: 1, nan: 1, nan: 1, nan: 1, 162.0: 1, nan: 1, 246.0: 1, nan: 1, nan: 1, nan: 1, nan: 1, 182.0: 1, 146.0: 1, nan: 1, 425.0: 1, 250.0: 1, nan: 1, nan: 1, nan: 1, 415.0: 1, 251.0: 1, 280.0: 1, 295.0: 1, 298.0: 1, 226.0: 1, 143.0: 1, 115.0: 1, 297.0: 1, 233.0: 1, 294.0: 1, nan: 1, nan: 1, nan: 1, nan: 1, 323.0: 1, nan: 1, nan: 1, 90.0: 1, 308.0: 1, 224.0: 1, nan: 1, 268.0: 1, nan: 1, 256.0: 1, nan: 1, 84.0: 1, nan: 1, 288.0: 1, 273.0: 1, 242.0: 1, 148.0: 1, nan: 1, 160.0: 1, nan: 1, 307.0: 1, 220.0: 1, 447.0: 1, 309.0: 1, 22.0: 1, 261.0: 1, 215.0: 1, 234.0: 1, 352.0: 1, nan: 1, nan: 1, 239.0: 1, nan: 1, nan: 1, 184.0: 1, nan: 1, 252.0: 1, 230.0: 1, 341.0: 1, nan: 1, 255.0: 1, nan: 1, 238.0: 1, 248.0: 1, 241.0: 1, 269.0: 1, nan: 1, nan: 1, 201.0: 1, 203.0: 1, 463.0: 1, 176.0: 1, nan: 1, nan: 1, 116.0: 1, nan: 1, nan: 1, nan: 1, 134.0: 1, 87.0: 1, nan: 1})\n",
            "**********\n",
            "\n",
            "Columns :  hemoglobin\n",
            "Counter({15.0: 16, 10.9: 8, 9.8: 7, 11.1: 7, 13.0: 7, 13.6: 7, 11.3: 6, 10.3: 6, 12.0: 6, 13.9: 6, 15.4: 5, 11.2: 5, 10.8: 5, 9.7: 5, 12.6: 5, 7.9: 5, 10.0: 5, 14.0: 5, 14.3: 5, 14.8: 5, 12.2: 4, 12.4: 4, 12.5: 4, 15.2: 4, 9.1: 4, 11.9: 4, 13.5: 4, 16.1: 4, 14.1: 4, 13.2: 4, 13.8: 4, 13.7: 4, 13.4: 4, 17.0: 4, 15.5: 4, 15.8: 4, 9.6: 3, 11.6: 3, 9.5: 3, 9.4: 3, 12.7: 3, 9.9: 3, 10.1: 3, 8.6: 3, 11.0: 3, 15.6: 3, 8.1: 3, 8.3: 3, 10.4: 3, 11.8: 3, 11.4: 3, 11.5: 3, 15.9: 3, 14.5: 3, 16.2: 3, 14.4: 3, 14.2: 3, 16.3: 3, 16.5: 3, 15.7: 3, 16.4: 3, 14.9: 3, 15.3: 3, 17.8: 3, 12.1: 2, 9.3: 2, 10.2: 2, 10.5: 2, 6.0: 2, 11.7: 2, 8.0: 2, 12.3: 2, 8.7: 2, 13.1: 2, 8.8: 2, 13.3: 2, 14.6: 2, 16.9: 2, 16.0: 2, 14.7: 2, 16.6: 2, 16.7: 2, 16.8: 2, 15.1: 2, 17.1: 2, 17.2: 2, 17.4: 2, 5.6: 1, 7.6: 1, 7.7: 1, nan: 1, nan: 1, 12.9: 1, nan: 1, nan: 1, nan: 1, nan: 1, 6.6: 1, nan: 1, nan: 1, 7.5: 1, nan: 1, nan: 1, 4.8: 1, nan: 1, nan: 1, 7.1: 1, nan: 1, nan: 1, nan: 1, 9.2: 1, nan: 1, 6.2: 1, nan: 1, nan: 1, nan: 1, nan: 1, nan: 1, nan: 1, 8.2: 1, nan: 1, nan: 1, 6.1: 1, nan: 1, nan: 1, nan: 1, nan: 1, 8.4: 1, nan: 1, 9.0: 1, nan: 1, nan: 1, 10.6: 1, nan: 1, nan: 1, nan: 1, 10.7: 1, nan: 1, 5.5: 1, nan: 1, 5.8: 1, 6.8: 1, 8.5: 1, 7.3: 1, nan: 1, nan: 1, 12.8: 1, nan: 1, nan: 1, nan: 1, nan: 1, nan: 1, nan: 1, nan: 1, 6.3: 1, nan: 1, 3.1: 1, nan: 1, 17.3: 1, nan: 1, nan: 1, nan: 1, nan: 1, 17.7: 1, 17.5: 1, nan: 1, 17.6: 1})\n",
            "**********\n",
            "\n",
            "Columns :  potassium\n",
            "Counter({5.0: 30, 3.5: 30, 4.9: 27, 4.7: 17, 4.8: 16, 4.0: 14, 4.2: 14, 4.1: 14, 3.8: 14, 3.9: 14, 4.4: 14, 4.5: 13, 3.7: 12, 4.3: 12, 3.6: 8, 4.6: 7, 3.4: 5, 5.2: 5, 5.7: 4, 5.3: 4, 3.2: 3, 5.5: 3, 2.9: 3, 5.4: 3, 6.3: 3, 3.3: 3, 2.5: 2, 5.8: 2, 5.9: 2, 5.6: 2, 3.0: 2, 6.5: 2, nan: 1, nan: 1, nan: 1, nan: 1, nan: 1, nan: 1, nan: 1, 6.4: 1, nan: 1, nan: 1, nan: 1, nan: 1, nan: 1, nan: 1, nan: 1, nan: 1, nan: 1, nan: 1, nan: 1, nan: 1, nan: 1, nan: 1, nan: 1, nan: 1, 6.6: 1, 39.0: 1, nan: 1, nan: 1, nan: 1, nan: 1, nan: 1, nan: 1, nan: 1, 7.6: 1, nan: 1, nan: 1, nan: 1, nan: 1, nan: 1, nan: 1, nan: 1, nan: 1, nan: 1, nan: 1, nan: 1, nan: 1, nan: 1, nan: 1, nan: 1, nan: 1, nan: 1, 47.0: 1, nan: 1, 5.1: 1, nan: 1, nan: 1, nan: 1, nan: 1, nan: 1, nan: 1, nan: 1, nan: 1, nan: 1, nan: 1, 2.8: 1, nan: 1, nan: 1, nan: 1, nan: 1, 2.7: 1, nan: 1, nan: 1, nan: 1, nan: 1, nan: 1, nan: 1, nan: 1, nan: 1, nan: 1, nan: 1, nan: 1, nan: 1, nan: 1, nan: 1, nan: 1, nan: 1, nan: 1, nan: 1, nan: 1, nan: 1, nan: 1, nan: 1, nan: 1, nan: 1, nan: 1, nan: 1})\n",
            "**********\n",
            "\n",
            "Columns :  age\n",
            "Counter({60.0: 19, 65.0: 17, 48.0: 12, 50.0: 12, 55.0: 12, 47.0: 11, 62.0: 10, 45.0: 10, 54.0: 10, 59.0: 10, 56.0: 10, 61.0: 9, 70.0: 9, 46.0: 9, 34.0: 9, 68.0: 8, 73.0: 8, 64.0: 8, 71.0: 8, 57.0: 8, 63.0: 7, 72.0: 7, 67.0: 7, 30.0: 7, 42.0: 6, 69.0: 6, 35.0: 6, 44.0: 6, 43.0: 6, 33.0: 6, 51.0: 5, 52.0: 5, 53.0: 5, 75.0: 5, 76.0: 5, 58.0: 5, 41.0: 5, 66.0: 5, 24.0: 4, 40.0: 4, 39.0: 4, 80.0: 4, 23.0: 4, 74.0: 3, 38.0: 3, 17.0: 3, 8.0: 3, 32.0: 3, 37.0: 3, 25.0: 3, 29.0: 3, 21.0: 2, 15.0: 2, 5.0: 2, 12.0: 2, 49.0: 2, 19.0: 2, 36.0: 2, 20.0: 2, 28.0: 2, 7.0: 1, nan: 1, 82.0: 1, 11.0: 1, 26.0: 1, nan: 1, nan: 1, nan: 1, nan: 1, 81.0: 1, 14.0: 1, 27.0: 1, nan: 1, 83.0: 1, 4.0: 1, 3.0: 1, 6.0: 1, nan: 1, 90.0: 1, 78.0: 1, nan: 1, 2.0: 1, nan: 1, 22.0: 1, 79.0: 1})\n",
            "**********\n",
            "\n",
            "Columns :  specific_gravity\n",
            "Counter({1.02: 106, 1.01: 84, 1.025: 81, 1.015: 75, 1.005: 7, nan: 1, nan: 1, nan: 1, nan: 1, nan: 1, nan: 1, nan: 1, nan: 1, nan: 1, nan: 1, nan: 1, nan: 1, nan: 1, nan: 1, nan: 1, nan: 1, nan: 1, nan: 1, nan: 1, nan: 1, nan: 1, nan: 1, nan: 1, nan: 1, nan: 1, nan: 1, nan: 1, nan: 1, nan: 1, nan: 1, nan: 1, nan: 1, nan: 1, nan: 1, nan: 1, nan: 1, nan: 1, nan: 1, nan: 1, nan: 1, nan: 1, nan: 1, nan: 1, nan: 1, nan: 1, nan: 1, nan: 1})\n",
            "**********\n",
            "\n",
            "Columns :  sodium\n",
            "Counter({135.0: 40, 140.0: 25, 141.0: 22, 139.0: 21, 142.0: 20, 138.0: 20, 137.0: 19, 136.0: 17, 150.0: 17, 147.0: 13, 145.0: 11, 132.0: 10, 146.0: 10, 131.0: 9, 144.0: 9, 133.0: 8, 130.0: 7, 134.0: 6, 143.0: 4, 127.0: 3, 124.0: 3, 114.0: 2, 125.0: 2, 128.0: 2, 122.0: 2, 113.0: 2, 120.0: 2, nan: 1, nan: 1, nan: 1, 111.0: 1, nan: 1, 104.0: 1, nan: 1, nan: 1, nan: 1, nan: 1, 4.5: 1, nan: 1, 129.0: 1, nan: 1, nan: 1, nan: 1, nan: 1, nan: 1, nan: 1, nan: 1, nan: 1, nan: 1, nan: 1, nan: 1, nan: 1, nan: 1, 163.0: 1, nan: 1, nan: 1, nan: 1, nan: 1, nan: 1, nan: 1, nan: 1, nan: 1, nan: 1, nan: 1, nan: 1, nan: 1, nan: 1, nan: 1, nan: 1, nan: 1, nan: 1, nan: 1, nan: 1, nan: 1, nan: 1, nan: 1, nan: 1, nan: 1, nan: 1, 126.0: 1, nan: 1, nan: 1, nan: 1, nan: 1, nan: 1, nan: 1, nan: 1, nan: 1, nan: 1, nan: 1, 115.0: 1, nan: 1, nan: 1, nan: 1, nan: 1, nan: 1, nan: 1, nan: 1, nan: 1, nan: 1, nan: 1, nan: 1, nan: 1, nan: 1, nan: 1, nan: 1, nan: 1, nan: 1, nan: 1, nan: 1, nan: 1, nan: 1, nan: 1, nan: 1, nan: 1, nan: 1, nan: 1, nan: 1, nan: 1, nan: 1, nan: 1})\n",
            "**********\n",
            "\n",
            "Columns :  albumin\n",
            "Counter({0.0: 199, 1.0: 44, 2.0: 43, 3.0: 43, 4.0: 24, nan: 1, nan: 1, nan: 1, nan: 1, nan: 1, nan: 1, nan: 1, nan: 1, nan: 1, nan: 1, nan: 1, nan: 1, nan: 1, nan: 1, nan: 1, nan: 1, nan: 1, nan: 1, nan: 1, nan: 1, nan: 1, nan: 1, 5.0: 1, nan: 1, nan: 1, nan: 1, nan: 1, nan: 1, nan: 1, nan: 1, nan: 1, nan: 1, nan: 1, nan: 1, nan: 1, nan: 1, nan: 1, nan: 1, nan: 1, nan: 1, nan: 1, nan: 1, nan: 1, nan: 1, nan: 1, nan: 1, nan: 1})\n",
            "**********\n",
            "\n",
            "Columns :  blood_urea\n",
            "Counter({46.0: 15, 25.0: 13, 19.0: 11, 40.0: 10, 18.0: 9, 50.0: 9, 15.0: 9, 48.0: 9, 26.0: 8, 27.0: 8, 32.0: 8, 49.0: 8, 36.0: 7, 28.0: 7, 20.0: 7, 17.0: 7, 38.0: 7, 16.0: 7, 30.0: 7, 44.0: 7, 31.0: 6, 45.0: 6, 39.0: 6, 29.0: 6, 24.0: 6, 37.0: 6, 22.0: 6, 23.0: 6, 53.0: 5, 55.0: 5, 33.0: 5, 66.0: 5, 35.0: 5, 42.0: 5, 47.0: 4, 51.0: 4, 34.0: 4, 68.0: 4, 41.0: 4, 60.0: 3, 107.0: 3, 80.0: 3, 96.0: 3, 52.0: 3, 106.0: 3, 125.0: 3, 56.0: 2, 54.0: 2, 72.0: 2, 86.0: 2, 90.0: 2, 87.0: 2, 155.0: 2, 153.0: 2, 77.0: 2, 89.0: 2, 111.0: 2, 73.0: 2, 98.0: 2, 82.0: 2, 132.0: 2, 58.0: 2, 10.0: 2, 162.0: 1, 148.0: 1, 180.0: 1, 163.0: 1, nan: 1, 75.0: 1, 65.0: 1, 103.0: 1, 70.0: 1, 202.0: 1, 114.0: 1, nan: 1, nan: 1, 164.0: 1, 142.0: 1, 391.0: 1, nan: 1, nan: 1, 92.0: 1, 139.0: 1, 85.0: 1, 186.0: 1, 217.0: 1, 88.0: 1, 118.0: 1, 50.1: 1, 71.0: 1, nan: 1, 21.0: 1, 219.0: 1, 166.0: 1, 208.0: 1, 176.0: 1, nan: 1, 145.0: 1, 165.0: 1, 322.0: 1, 235.0: 1, 76.0: 1, nan: 1, nan: 1, 113.0: 1, 1.5: 1, 146.0: 1, 133.0: 1, 137.0: 1, 67.0: 1, 115.0: 1, 223.0: 1, 98.6: 1, 158.0: 1, 94.0: 1, 74.0: 1, nan: 1, 150.0: 1, nan: 1, 61.0: 1, 57.0: 1, nan: 1, 95.0: 1, 191.0: 1, nan: 1, 93.0: 1, 241.0: 1, 64.0: 1, 79.0: 1, 215.0: 1, 309.0: 1, nan: 1, nan: 1, nan: 1, nan: 1, nan: 1, nan: 1})\n",
            "**********\n",
            "\n",
            "Columns :  serum_creatinine\n",
            "Counter({1.2: 40, 1.1: 24, 1.0: 23, 0.5: 23, 0.7: 22, 0.9: 22, 0.6: 18, 0.8: 17, 2.2: 10, 1.5: 9, 1.7: 9, 1.3: 8, 1.6: 8, 1.8: 7, 1.4: 7, 2.5: 7, 2.8: 7, 1.9: 6, 2.7: 5, 2.1: 5, 2.0: 5, 3.2: 5, 3.3: 5, 3.9: 4, 7.3: 4, 4.0: 3, 2.4: 3, 3.4: 3, 2.9: 3, 5.3: 3, 2.3: 3, 7.2: 2, 4.6: 2, 4.1: 2, 5.2: 2, 6.3: 2, 3.0: 2, 6.1: 2, 6.7: 2, 5.6: 2, 6.5: 2, 4.4: 2, 6.0: 2, 3.8: 1, 24.0: 1, 9.6: 1, 76.0: 1, 7.7: 1, nan: 1, 10.8: 1, 5.9: 1, 3.25: 1, nan: 1, 9.7: 1, 6.4: 1, 32.0: 1, nan: 1, nan: 1, 8.5: 1, 15.0: 1, 3.6: 1, 10.2: 1, 11.5: 1, nan: 1, 12.2: 1, 9.2: 1, 13.8: 1, 16.9: 1, 7.1: 1, 18.0: 1, 13.0: 1, 48.1: 1, 14.2: 1, 16.4: 1, nan: 1, nan: 1, 2.6: 1, 7.5: 1, 4.3: 1, 18.1: 1, 11.8: 1, 9.3: 1, 6.8: 1, 13.5: 1, nan: 1, 12.8: 1, 11.9: 1, nan: 1, nan: 1, nan: 1, 12.0: 1, nan: 1, 13.4: 1, 15.2: 1, 13.3: 1, nan: 1, nan: 1, nan: 1, nan: 1, nan: 1, 0.4: 1})\n",
            "**********\n",
            "\n"
          ]
        }
      ]
    },
    {
      "cell_type": "code",
      "source": [
        "#remove non categorical columns from categorical columns list\n",
        "cont_cols.remove(\"specific_gravity\")\n",
        "cont_cols.remove(\"albumin\")\n",
        "cont_cols.remove(\"sugar\")\n",
        "print(cont_cols)"
      ],
      "metadata": {
        "id": "YHSMKASGmu_q",
        "colab": {
          "base_uri": "https://localhost:8080/"
        },
        "outputId": "e9318b8a-b04b-44af-84c7-d2f16357f376"
      },
      "execution_count": 17,
      "outputs": [
        {
          "output_type": "stream",
          "name": "stdout",
          "text": [
            "{'blood_pressure', 'blood_glucose_random', 'hemoglobin', 'potassium', 'age', 'sodium', 'blood_urea', 'serum_creatinine'}\n"
          ]
        }
      ]
    },
    {
      "cell_type": "code",
      "source": [
        "#add categorical columns\n",
        "cat_cols.add(\"specific_gravity\")\n",
        "cat_cols.add(\"albumin\")\n",
        "cat_cols.add(\"sugar\")\n",
        "print(cat_cols)"
      ],
      "metadata": {
        "id": "FMHkFDYAm84c",
        "colab": {
          "base_uri": "https://localhost:8080/"
        },
        "outputId": "ac1fb270-9c62-4e66-d4e3-98d7a6acfc86"
      },
      "execution_count": 18,
      "outputs": [
        {
          "output_type": "stream",
          "name": "stdout",
          "text": [
            "{'bacteria', 'red_blood_cells', 'sugar', 'coronary_artery_disease', 'diabetesmellitus', 'hypertension', 'pedal_edema', 'class', 'pus_cell', 'specific_gravity', 'albumin', 'appetite', 'pus_cell_clumps', 'anemia'}\n"
          ]
        }
      ]
    },
    {
      "cell_type": "code",
      "source": [
        "#add continuous columns\n",
        "cont_cols.add(\"rbc_count\")\n",
        "cont_cols.add(\"wbc_count\")\n",
        "cont_cols.add(\"packed_cell_volume\")\n",
        "print(cont_cols)"
      ],
      "metadata": {
        "id": "52jYnb0qnNn-",
        "colab": {
          "base_uri": "https://localhost:8080/"
        },
        "outputId": "f246e584-734c-4b71-caae-309a2d247554"
      },
      "execution_count": 19,
      "outputs": [
        {
          "output_type": "stream",
          "name": "stdout",
          "text": [
            "{'blood_pressure', 'blood_glucose_random', 'rbc_count', 'hemoglobin', 'potassium', 'age', 'sodium', 'wbc_count', 'blood_urea', 'packed_cell_volume', 'serum_creatinine'}\n"
          ]
        }
      ]
    },
    {
      "cell_type": "code",
      "source": [
        "#clean input labels\n",
        "data[\"coronary_artery_disease\"] = data[\"coronary_artery_disease\"].replace(\"\\tno\",\"no\")\n",
        "C(data[\"coronary_artery_disease\"])\n",
        "data[\"diabetesmellitus\"] = data[\"diabetesmellitus\"].replace(to_replace={\" yes\":\"yes\",\"\\tyes\":\"yes\",\"\\tno\":\"no\"})\n",
        "C(data[\"diabetesmellitus\"])"
      ],
      "metadata": {
        "id": "DFhG8guJnj_9",
        "colab": {
          "base_uri": "https://localhost:8080/"
        },
        "outputId": "6ad7369d-c634-4d97-c87a-a7f81c45b37f"
      },
      "execution_count": 20,
      "outputs": [
        {
          "output_type": "execute_result",
          "data": {
            "text/plain": [
              "Counter({'yes': 137, 'no': 261, nan: 2})"
            ]
          },
          "metadata": {},
          "execution_count": 20
        }
      ]
    },
    {
      "cell_type": "code",
      "source": [
        "#check for null values in each column\n",
        "data.isnull().any()"
      ],
      "metadata": {
        "id": "8LEmEeRdol1m",
        "colab": {
          "base_uri": "https://localhost:8080/"
        },
        "outputId": "c9e454eb-e205-474d-9acc-29b3afef50fe"
      },
      "execution_count": 21,
      "outputs": [
        {
          "output_type": "execute_result",
          "data": {
            "text/plain": [
              "age                         True\n",
              "blood_pressure              True\n",
              "specific_gravity            True\n",
              "albumin                     True\n",
              "sugar                       True\n",
              "red_blood_cells             True\n",
              "pus_cell                    True\n",
              "pus_cell_clumps             True\n",
              "bacteria                    True\n",
              "blood_glucose_random        True\n",
              "blood_urea                  True\n",
              "serum_creatinine            True\n",
              "sodium                      True\n",
              "potassium                   True\n",
              "hemoglobin                  True\n",
              "packed_cell_volume          True\n",
              "wbc_count                   True\n",
              "rbc_count                   True\n",
              "hypertension                True\n",
              "diabetesmellitus            True\n",
              "coronary_artery_disease     True\n",
              "appetite                    True\n",
              "pedal_edema                 True\n",
              "anemia                      True\n",
              "class                      False\n",
              "dtype: bool"
            ]
          },
          "metadata": {},
          "execution_count": 21
        }
      ]
    },
    {
      "cell_type": "code",
      "source": [
        "#get count of null values in each column\n",
        "data.isnull().sum()"
      ],
      "metadata": {
        "id": "dB_7DLrsqnNi",
        "colab": {
          "base_uri": "https://localhost:8080/"
        },
        "outputId": "c86ba2ec-fd5d-47e2-be6e-2cd39addfac3"
      },
      "execution_count": 22,
      "outputs": [
        {
          "output_type": "execute_result",
          "data": {
            "text/plain": [
              "age                          9\n",
              "blood_pressure              12\n",
              "specific_gravity            47\n",
              "albumin                     46\n",
              "sugar                       49\n",
              "red_blood_cells            152\n",
              "pus_cell                    65\n",
              "pus_cell_clumps              4\n",
              "bacteria                     4\n",
              "blood_glucose_random        44\n",
              "blood_urea                  19\n",
              "serum_creatinine            17\n",
              "sodium                      87\n",
              "potassium                   88\n",
              "hemoglobin                  52\n",
              "packed_cell_volume          70\n",
              "wbc_count                  105\n",
              "rbc_count                  130\n",
              "hypertension                 2\n",
              "diabetesmellitus             2\n",
              "coronary_artery_disease      2\n",
              "appetite                     1\n",
              "pedal_edema                  1\n",
              "anemia                       1\n",
              "class                        0\n",
              "dtype: int64"
            ]
          },
          "metadata": {},
          "execution_count": 22
        }
      ]
    },
    {
      "cell_type": "code",
      "source": [
        "#convert object data type present in continuous columns to numeric data type\n",
        "data[\"packed_cell_volume\"] = pd.to_numeric(data[\"packed_cell_volume\"],errors='coerce')\n",
        "data[\"rbc_count\"] = pd.to_numeric(data[\"rbc_count\"],errors='coerce')\n",
        "data[\"wbc_count\"] = pd.to_numeric(data[\"wbc_count\"],errors='coerce')"
      ],
      "metadata": {
        "id": "C3_Gmxzmqr7R"
      },
      "execution_count": 23,
      "outputs": []
    },
    {
      "cell_type": "code",
      "source": [
        "#replace all null values in each of the continuous columns with it's columnar mean value\n",
        "data[\"blood_glucose_random\"].fillna(data[\"blood_glucose_random\"].mean(),inplace=True)\n",
        "data[\"blood_pressure\"].fillna(data[\"blood_pressure\"].mean(),inplace=True)\n",
        "data[\"blood_urea\"].fillna(data[\"blood_urea\"].mean(),inplace=True)\n",
        "data[\"hemoglobin\"].fillna(data[\"hemoglobin\"].mean(),inplace=True)\n",
        "data[\"packed_cell_volume\"].fillna(data[\"packed_cell_volume\"].mean(),inplace=True)\n",
        "data[\"potassium\"].fillna(data[\"potassium\"].mean(),inplace=True)\n",
        "data[\"rbc_count\"].fillna(data[\"rbc_count\"].mean(),inplace=True)\n",
        "data[\"serum_creatinine\"].fillna(data[\"serum_creatinine\"].mean(),inplace=True)\n",
        "data[\"sodium\"].fillna(data[\"sodium\"].mean(),inplace=True)\n",
        "data[\"wbc_count\"].fillna(data[\"wbc_count\"].mean(),inplace=True)"
      ],
      "metadata": {
        "id": "m2jUhNUcrK3o"
      },
      "execution_count": 24,
      "outputs": []
    },
    {
      "cell_type": "code",
      "source": [
        "#replace all null values in each of the categorical columns with it's columnar mode value\n",
        "data[\"age\"].fillna(data[\"age\"].mode()[0],inplace=True)\n",
        "data[\"hypertension\"].fillna(data[\"hypertension\"].mode()[0],inplace=True)\n",
        "data[\"pus_cell_clumps\"].fillna(data[\"pus_cell_clumps\"].mode()[0],inplace=True)\n",
        "data[\"appetite\"].fillna(data[\"appetite\"].mode()[0],inplace=True)\n",
        "data[\"albumin\"].fillna(data[\"albumin\"].mode()[0],inplace=True)\n",
        "data[\"pus_cell\"].fillna(data[\"pus_cell\"].mode()[0],inplace=True)\n",
        "data[\"red_blood_cells\"].fillna(data[\"red_blood_cells\"].mode()[0],inplace=True)\n",
        "data[\"coronary_artery_disease\"].fillna(data[\"coronary_artery_disease\"].mode()[0],inplace=True)\n",
        "data[\"bacteria\"].fillna(data[\"bacteria\"].mode()[0],inplace=True)\n",
        "data[\"anemia\"].fillna(data[\"anemia\"].mode()[0],inplace=True)\n",
        "data[\"sugar\"].fillna(data[\"sugar\"].mode()[0],inplace=True)\n",
        "data[\"diabetesmellitus\"].fillna(data[\"diabetesmellitus\"].mode()[0],inplace=True)\n",
        "data[\"pedal_edema\"].fillna(data[\"pedal_edema\"].mode()[0],inplace=True)\n",
        "data[\"specific_gravity\"].fillna(data[\"specific_gravity\"].mode()[0],inplace=True)"
      ],
      "metadata": {
        "id": "cih7CAIyrL6w"
      },
      "execution_count": 25,
      "outputs": []
    },
    {
      "cell_type": "code",
      "source": [
        "#encoding labels of each of the categorical columns\n",
        "for col in cat_cols:\n",
        "  print(\"Label Encoding of : \",col)\n",
        "  label_encoder = LabelEncoder()\n",
        "  print(C(data[col]))\n",
        "  data[col] = label_encoder.fit_transform(data[col])\n",
        "  print(C(data[col]))\n",
        "  print(\"*\"*10+'\\n')"
      ],
      "metadata": {
        "id": "IBVbzEUpueRO",
        "colab": {
          "base_uri": "https://localhost:8080/"
        },
        "outputId": "6cd69b4d-b054-43cf-c2fe-2901df0d3623"
      },
      "execution_count": 26,
      "outputs": [
        {
          "output_type": "stream",
          "name": "stdout",
          "text": [
            "Label Encoding of :  bacteria\n",
            "Counter({'notpresent': 378, 'present': 22})\n",
            "Counter({0: 378, 1: 22})\n",
            "**********\n",
            "\n",
            "Label Encoding of :  red_blood_cells\n",
            "Counter({'normal': 353, 'abnormal': 47})\n",
            "Counter({1: 353, 0: 47})\n",
            "**********\n",
            "\n",
            "Label Encoding of :  sugar\n",
            "Counter({0.0: 339, 2.0: 18, 3.0: 14, 4.0: 13, 1.0: 13, 5.0: 3})\n",
            "Counter({0: 339, 2: 18, 3: 14, 4: 13, 1: 13, 5: 3})\n",
            "**********\n",
            "\n",
            "Label Encoding of :  coronary_artery_disease\n",
            "Counter({'no': 366, 'yes': 34})\n",
            "Counter({0: 366, 1: 34})\n",
            "**********\n",
            "\n",
            "Label Encoding of :  diabetesmellitus\n",
            "Counter({'no': 263, 'yes': 137})\n",
            "Counter({0: 263, 1: 137})\n",
            "**********\n",
            "\n",
            "Label Encoding of :  hypertension\n",
            "Counter({'no': 253, 'yes': 147})\n",
            "Counter({0: 253, 1: 147})\n",
            "**********\n",
            "\n",
            "Label Encoding of :  pedal_edema\n",
            "Counter({'no': 324, 'yes': 76})\n",
            "Counter({0: 324, 1: 76})\n",
            "**********\n",
            "\n",
            "Label Encoding of :  class\n",
            "Counter({'ckd': 250, 'notckd': 150})\n",
            "Counter({0: 250, 1: 150})\n",
            "**********\n",
            "\n",
            "Label Encoding of :  pus_cell\n",
            "Counter({'normal': 324, 'abnormal': 76})\n",
            "Counter({1: 324, 0: 76})\n",
            "**********\n",
            "\n",
            "Label Encoding of :  specific_gravity\n",
            "Counter({1.02: 153, 1.01: 84, 1.025: 81, 1.015: 75, 1.005: 7})\n",
            "Counter({3: 153, 1: 84, 4: 81, 2: 75, 0: 7})\n",
            "**********\n",
            "\n",
            "Label Encoding of :  albumin\n",
            "Counter({0.0: 245, 1.0: 44, 2.0: 43, 3.0: 43, 4.0: 24, 5.0: 1})\n",
            "Counter({0: 245, 1: 44, 2: 43, 3: 43, 4: 24, 5: 1})\n",
            "**********\n",
            "\n",
            "Label Encoding of :  appetite\n",
            "Counter({'good': 318, 'poor': 82})\n",
            "Counter({0: 318, 1: 82})\n",
            "**********\n",
            "\n",
            "Label Encoding of :  pus_cell_clumps\n",
            "Counter({'notpresent': 358, 'present': 42})\n",
            "Counter({0: 358, 1: 42})\n",
            "**********\n",
            "\n",
            "Label Encoding of :  anemia\n",
            "Counter({'no': 340, 'yes': 60})\n",
            "Counter({0: 340, 1: 60})\n",
            "**********\n",
            "\n"
          ]
        }
      ]
    },
    {
      "cell_type": "code",
      "source": [
        "#returns the information(col name,not null count,data type) of all columns\n",
        "data.info()"
      ],
      "metadata": {
        "id": "QqcAeUruvlq5",
        "colab": {
          "base_uri": "https://localhost:8080/"
        },
        "outputId": "421aa3f1-5f41-4f15-b484-338d3b78c8ad"
      },
      "execution_count": 27,
      "outputs": [
        {
          "output_type": "stream",
          "name": "stdout",
          "text": [
            "<class 'pandas.core.frame.DataFrame'>\n",
            "RangeIndex: 400 entries, 0 to 399\n",
            "Data columns (total 25 columns):\n",
            " #   Column                   Non-Null Count  Dtype  \n",
            "---  ------                   --------------  -----  \n",
            " 0   age                      400 non-null    float64\n",
            " 1   blood_pressure           400 non-null    float64\n",
            " 2   specific_gravity         400 non-null    int64  \n",
            " 3   albumin                  400 non-null    int64  \n",
            " 4   sugar                    400 non-null    int64  \n",
            " 5   red_blood_cells          400 non-null    int64  \n",
            " 6   pus_cell                 400 non-null    int64  \n",
            " 7   pus_cell_clumps          400 non-null    int64  \n",
            " 8   bacteria                 400 non-null    int64  \n",
            " 9   blood_glucose_random     400 non-null    float64\n",
            " 10  blood_urea               400 non-null    float64\n",
            " 11  serum_creatinine         400 non-null    float64\n",
            " 12  sodium                   400 non-null    float64\n",
            " 13  potassium                400 non-null    float64\n",
            " 14  hemoglobin               400 non-null    float64\n",
            " 15  packed_cell_volume       400 non-null    float64\n",
            " 16  wbc_count                400 non-null    float64\n",
            " 17  rbc_count                400 non-null    float64\n",
            " 18  hypertension             400 non-null    int64  \n",
            " 19  diabetesmellitus         400 non-null    int64  \n",
            " 20  coronary_artery_disease  400 non-null    int64  \n",
            " 21  appetite                 400 non-null    int64  \n",
            " 22  pedal_edema              400 non-null    int64  \n",
            " 23  anemia                   400 non-null    int64  \n",
            " 24  class                    400 non-null    int64  \n",
            "dtypes: float64(11), int64(14)\n",
            "memory usage: 78.2 KB\n"
          ]
        }
      ]
    },
    {
      "cell_type": "code",
      "source": [
        "#seaprate the independent & dependent columns to train the model and print the shape of the input and ouptut data frames\n",
        "inp_cols = [\"red_blood_cells\",\"pus_cell\",\"blood_glucose_random\",\"blood_urea\",\"pedal_edema\",\"anemia\",\"diabetesmellitus\",\"coronary_artery_disease\"]\n",
        "x = pd.DataFrame(data,columns=inp_cols)\n",
        "y = pd.DataFrame(data,columns=[\"class\"])\n",
        "print(x.shape)\n",
        "print(y.shape)\n"
      ],
      "metadata": {
        "id": "1lD04q7rwbPZ",
        "colab": {
          "base_uri": "https://localhost:8080/"
        },
        "outputId": "14d84aac-311e-4ecf-afca-ff30c207bf3c"
      },
      "execution_count": 28,
      "outputs": [
        {
          "output_type": "stream",
          "name": "stdout",
          "text": [
            "(400, 8)\n",
            "(400, 1)\n"
          ]
        }
      ]
    },
    {
      "cell_type": "code",
      "source": [
        "print(x.info())"
      ],
      "metadata": {
        "colab": {
          "base_uri": "https://localhost:8080/"
        },
        "id": "G-VliTjFNtmr",
        "outputId": "ac8a7b24-3a64-4831-db8d-a68eb20ffaf9"
      },
      "execution_count": 29,
      "outputs": [
        {
          "output_type": "stream",
          "name": "stdout",
          "text": [
            "<class 'pandas.core.frame.DataFrame'>\n",
            "RangeIndex: 400 entries, 0 to 399\n",
            "Data columns (total 8 columns):\n",
            " #   Column                   Non-Null Count  Dtype  \n",
            "---  ------                   --------------  -----  \n",
            " 0   red_blood_cells          400 non-null    int64  \n",
            " 1   pus_cell                 400 non-null    int64  \n",
            " 2   blood_glucose_random     400 non-null    float64\n",
            " 3   blood_urea               400 non-null    float64\n",
            " 4   pedal_edema              400 non-null    int64  \n",
            " 5   anemia                   400 non-null    int64  \n",
            " 6   diabetesmellitus         400 non-null    int64  \n",
            " 7   coronary_artery_disease  400 non-null    int64  \n",
            "dtypes: float64(2), int64(6)\n",
            "memory usage: 25.1 KB\n",
            "None\n"
          ]
        }
      ]
    },
    {
      "cell_type": "code",
      "source": [
        "#split the dataset to training and testing data\n",
        "x_train,x_test,y_train,y_test = train_test_split(x,y,test_size=0.2,random_state=2)\n",
        "print(x_train.shape)\n",
        "print(x_test.shape)\n",
        "print(y_train.shape)\n",
        "print(y_test.shape)"
      ],
      "metadata": {
        "id": "tAozqcmGxnhf",
        "colab": {
          "base_uri": "https://localhost:8080/"
        },
        "outputId": "25bffda3-8dfd-405c-df41-1d6550dc40de"
      },
      "execution_count": 30,
      "outputs": [
        {
          "output_type": "stream",
          "name": "stdout",
          "text": [
            "(320, 8)\n",
            "(80, 8)\n",
            "(320, 1)\n",
            "(80, 1)\n"
          ]
        }
      ]
    },
    {
      "cell_type": "code",
      "source": [
        "#build the logistic regression model with the training data\n",
        "lgr_model = LogisticRegression()\n",
        "lgr_model.fit(x_train,y_train)"
      ],
      "metadata": {
        "colab": {
          "base_uri": "https://localhost:8080/"
        },
        "id": "ThOqYoFAylcG",
        "outputId": "4414a8e5-d07c-440c-eb40-74e9885239cf"
      },
      "execution_count": 31,
      "outputs": [
        {
          "output_type": "stream",
          "name": "stderr",
          "text": [
            "/usr/local/lib/python3.7/dist-packages/sklearn/utils/validation.py:993: DataConversionWarning: A column-vector y was passed when a 1d array was expected. Please change the shape of y to (n_samples, ), for example using ravel().\n",
            "  y = column_or_1d(y, warn=True)\n",
            "/usr/local/lib/python3.7/dist-packages/sklearn/linear_model/_logistic.py:818: ConvergenceWarning: lbfgs failed to converge (status=1):\n",
            "STOP: TOTAL NO. of ITERATIONS REACHED LIMIT.\n",
            "\n",
            "Increase the number of iterations (max_iter) or scale the data as shown in:\n",
            "    https://scikit-learn.org/stable/modules/preprocessing.html\n",
            "Please also refer to the documentation for alternative solver options:\n",
            "    https://scikit-learn.org/stable/modules/linear_model.html#logistic-regression\n",
            "  extra_warning_msg=_LOGISTIC_SOLVER_CONVERGENCE_MSG,\n"
          ]
        },
        {
          "output_type": "execute_result",
          "data": {
            "text/plain": [
              "LogisticRegression()"
            ]
          },
          "metadata": {},
          "execution_count": 31
        }
      ]
    },
    {
      "cell_type": "code",
      "source": [
        "#predict with the testing data\n",
        "y_pred = lgr_model.predict(x_test)\n",
        "print(y_pred)\n"
      ],
      "metadata": {
        "id": "rM2fP2bLzPli",
        "colab": {
          "base_uri": "https://localhost:8080/"
        },
        "outputId": "537f663d-9609-4820-e58d-a6d56715ef03"
      },
      "execution_count": 32,
      "outputs": [
        {
          "output_type": "stream",
          "name": "stdout",
          "text": [
            "[0 0 0 0 1 0 0 0 1 0 0 0 1 1 0 0 0 1 1 0 1 1 0 1 0 1 0 0 1 0 0 1 0 0 0 0 1\n",
            " 0 0 1 0 1 0 0 0 1 0 1 1 1 0 0 0 1 0 1 0 1 1 0 0 1 1 0 0 0 0 1 0 1 1 0 0 1\n",
            " 0 1 0 1 1 0]\n"
          ]
        }
      ]
    },
    {
      "cell_type": "code",
      "source": [
        "#predict with custom data\n",
        "y_samp_pred = lgr_model.predict([[129,99,1,0,0,1,0,1]])\n",
        "\n",
        "print(y_samp_pred)\n"
      ],
      "metadata": {
        "colab": {
          "base_uri": "https://localhost:8080/"
        },
        "id": "OkvVIwo9zfh4",
        "outputId": "237dce83-1258-4b01-f707-55432488a5f1"
      },
      "execution_count": 34,
      "outputs": [
        {
          "output_type": "stream",
          "name": "stdout",
          "text": [
            "[1]\n"
          ]
        },
        {
          "output_type": "stream",
          "name": "stderr",
          "text": [
            "/usr/local/lib/python3.7/dist-packages/sklearn/base.py:451: UserWarning: X does not have valid feature names, but LogisticRegression was fitted with feature names\n",
            "  \"X does not have valid feature names, but\"\n"
          ]
        }
      ]
    },
    {
      "cell_type": "code",
      "source": [
        "#return the accuracy score of the built model\n",
        "accuracy_score(y_test,y_pred)"
      ],
      "metadata": {
        "colab": {
          "base_uri": "https://localhost:8080/"
        },
        "id": "AmwF-kJTz7ca",
        "outputId": "63f958d6-d04e-473e-c8eb-c5511d4cb225"
      },
      "execution_count": 33,
      "outputs": [
        {
          "output_type": "execute_result",
          "data": {
            "text/plain": [
              "0.925"
            ]
          },
          "metadata": {},
          "execution_count": 33
        }
      ]
    },
    {
      "cell_type": "code",
      "source": [
        "#return the confusion matrix of the testing data against the predicted result\n",
        "conf_mat = confusion_matrix(y_test,y_pred)\n",
        "conf_mat"
      ],
      "metadata": {
        "colab": {
          "base_uri": "https://localhost:8080/"
        },
        "id": "uQk1BtdQ3bZl",
        "outputId": "188b7210-aece-46cb-8222-4bf6d22764c9"
      },
      "execution_count": 35,
      "outputs": [
        {
          "output_type": "execute_result",
          "data": {
            "text/plain": [
              "array([[48,  6],\n",
              "       [ 0, 26]])"
            ]
          },
          "metadata": {},
          "execution_count": 35
        }
      ]
    },
    {
      "cell_type": "code",
      "source": [
        "#save the model in a pickle file to use with flask web application\n",
        "pickle.dump(lgr_model,open('CKD_NLP.pkl','wb'))"
      ],
      "metadata": {
        "id": "JsDK_7Kw3n8J"
      },
      "execution_count": 36,
      "outputs": []
    }
  ]
}